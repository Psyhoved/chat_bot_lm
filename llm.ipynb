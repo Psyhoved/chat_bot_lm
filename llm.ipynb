{
 "cells": [
  {
   "cell_type": "code",
   "id": "initial_id",
   "metadata": {
    "collapsed": true,
    "ExecuteTime": {
     "end_time": "2024-08-27T12:08:31.546385Z",
     "start_time": "2024-08-27T12:08:31.539364Z"
    }
   },
   "source": "from libs.llm_chat import llama_3_1_8b, create_chain, get_session_history\n",
   "outputs": [],
   "execution_count": 22
  },
  {
   "metadata": {
    "ExecuteTime": {
     "end_time": "2024-08-27T12:08:37.508886Z",
     "start_time": "2024-08-27T12:08:33.035986Z"
    }
   },
   "cell_type": "code",
   "source": [
    "# chain_hermes = create_chain(model=hermes)\n",
    "chain = create_chain(model=llama_3_1_8b)"
   ],
   "id": "f7f8bc33093a7345",
   "outputs": [],
   "execution_count": 23
  },
  {
   "metadata": {
    "ExecuteTime": {
     "end_time": "2024-08-27T12:06:29.778680Z",
     "start_time": "2024-08-27T12:06:29.765694Z"
    }
   },
   "cell_type": "code",
   "source": [
    "user_id = 'саша003'\n",
    "question = 'Привет \\nКак получить бесплатный кофе?'"
   ],
   "id": "e93b4efa3ec7c28d",
   "outputs": [],
   "execution_count": 20
  },
  {
   "metadata": {
    "ExecuteTime": {
     "end_time": "2024-08-27T12:07:11.048133Z",
     "start_time": "2024-08-27T12:07:00.333111Z"
    }
   },
   "cell_type": "code",
   "source": [
    "response_content = chain.invoke({\"input\": question}, config={\"configurable\": {\"session_id\": user_id}})\n",
    "response_content"
   ],
   "id": "be89ee444889284e",
   "outputs": [
    {
     "name": "stderr",
     "output_type": "stream",
     "text": [
      "Error in RootListenersTracer.on_chain_end callback: KeyError('answer')\n",
      "Error in callback coroutine: KeyError('answer')\n"
     ]
    },
    {
     "data": {
      "text/plain": [
       "{'input': 'Привет \\nКак получить бесплатный кофе?',\n",
       " 'chat_history': [HumanMessage(content='Привет! Когда приедет курьер?'),\n",
       "  AIMessage(content='Здравствуйте! Приятного дня! Чтобы узнать время прибытия курьера, вы можете позвонить в магазин, где был сделан заказ, или воспользоваться функцией \"Трекинг заказа\" в приложении Жизньмарт. Это позволит вам отслеживать местоположение курьера и время прибытия. Если у вас есть какие-либо вопросы или проблемы, я всегда готов помочь!')],\n",
       " 'context': [Document(page_content='Гость: Какой кофе мне могут сделать бесплатно по карточке?  \\nБот: Здравствуйте! На главном экране в приложен ии Жизньмарт  появился раздел \\nКофе в подарок, в котором есть копилка. Нажав на акцию с кофе, вы увидите, какие \\nнапитки можно получить бесплатно 💚'),\n",
       "  Document(page_content='Гость: Есть ли у вас подарочные сертификаты?  \\nБот: Добрый день! Сертификаты есть в следующих городах: Екатеринбург, Курган, \\nКаменск -Уральский, Новоуральск, Ревда, Тюмень, Верхняя Пышма, Челябинск, Пермь, \\nБерезовский, Магнитогорск, Сы серть и Уфа. Наличие сертификатов необходимо \\nуточнить напрямую в необходимом магазине – все номера телефонов представлены \\nна сайте и в приложении.'),\n",
       "  Document(page_content='Гость: Почему еда была вскрыта? (при разогреве)  \\nБот: Здравствуйте! При разогреве наши супергерои приоткрывают упаковку, чтобы \\nблюдо не взорвалось в микроволновке :)'),\n",
       "  Document(page_content='Гость: Как сменить данные в профиле?  \\nБот: Здравствуйте! Для этого перейдите в профиль в приложении или на сайте в \\nЛичный Кабинет и внесите нужные изменения. После чего сохраните.')],\n",
       " 'answer': 'Приветствую! Чтобы получить бесплатный кофе, вам нужно воспользоваться акцией в приложении Жизньмарт. На главном экране есть раздел \"Кофе в подарок\", где вы найдете копилку. Нажав на акцию с кофе, вы увидите, какие напитки можно получить бесплатно. Приятного кофепития!'}"
      ]
     },
     "execution_count": 21,
     "metadata": {},
     "output_type": "execute_result"
    }
   ],
   "execution_count": 21
  },
  {
   "metadata": {
    "ExecuteTime": {
     "end_time": "2024-08-27T10:59:23.986286Z",
     "start_time": "2024-08-27T10:59:22.939404Z"
    }
   },
   "cell_type": "code",
   "source": [
    "session_history = get_session_history(user_id)\n",
    "session_history"
   ],
   "id": "c2ae9ea9a857ebac",
   "outputs": [
    {
     "data": {
      "text/plain": [
       "<langchain_community.chat_message_histories.postgres.PostgresChatMessageHistory at 0x1752b248400>"
      ]
     },
     "execution_count": 13,
     "metadata": {},
     "output_type": "execute_result"
    }
   ],
   "execution_count": 13
  },
  {
   "metadata": {
    "ExecuteTime": {
     "end_time": "2024-08-27T11:02:44.684624Z",
     "start_time": "2024-08-27T11:02:43.549741Z"
    }
   },
   "cell_type": "code",
   "outputs": [
    {
     "data": {
      "text/plain": [
       "[{'Human': 'Привет! Когда приедет курьер?'},\n",
       " {'AI': 'Привет! :) Время доставки заказа зависит от выбранного интервала и адреса доставки. Точное время прибытия курьера будет указано в приложении после оформления заказа. Если у вас возникнут вопросы или необходима помощь, обращайтесь в наш Живой Чат, и мы с радостью поможем!'}]"
      ]
     },
     "execution_count": 18,
     "metadata": {},
     "output_type": "execute_result"
    }
   ],
   "execution_count": 18,
   "source": [
    "from langchain_core.messages import HumanMessage, AIMessage\n",
    "\n",
    "session_history = get_session_history(user_id)\n",
    "\n",
    "# Преобразование сообщений в список словарей\n",
    "messages = []\n",
    "for message in session_history.messages:\n",
    "    if isinstance(message, HumanMessage):\n",
    "        messages.append({\"Human\": message.content})\n",
    "    elif isinstance(message, AIMessage):\n",
    "        messages.append({\"AI\": message.content})\n",
    "messages"
   ],
   "id": "ac0108f59893eec3"
  }
 ],
 "metadata": {
  "kernelspec": {
   "display_name": "Python 3",
   "language": "python",
   "name": "python3"
  },
  "language_info": {
   "codemirror_mode": {
    "name": "ipython",
    "version": 2
   },
   "file_extension": ".py",
   "mimetype": "text/x-python",
   "name": "python",
   "nbconvert_exporter": "python",
   "pygments_lexer": "ipython2",
   "version": "2.7.6"
  }
 },
 "nbformat": 4,
 "nbformat_minor": 5
}
