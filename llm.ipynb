{
 "cells": [
  {
   "cell_type": "code",
   "id": "initial_id",
   "metadata": {
    "collapsed": true,
    "ExecuteTime": {
     "end_time": "2024-09-03T10:35:00.100654Z",
     "start_time": "2024-09-03T10:34:57.530836Z"
    }
   },
   "source": [
    "from libs.llm_chat import (create_chain, check_question, get_session_history, MODEL,\n",
    "                           llama_3_1_8b, hermes, openchat, capybara, qwen2, zephyr, phi3, gemma2, mythomist,\n",
    "                           vec_store_save_path)\n",
    "\n",
    "%load_ext autoreload\n",
    "%autoreload 2"
   ],
   "outputs": [],
   "execution_count": 1
  },
  {
   "metadata": {
    "ExecuteTime": {
     "end_time": "2024-09-02T12:02:14.702696Z",
     "start_time": "2024-09-02T12:02:10.550983Z"
    }
   },
   "cell_type": "code",
   "source": [
    "# chain_hermes = create_chain(model=hermes)\n",
    "chain = create_chain(model=hermes)"
   ],
   "id": "f7f8bc33093a7345",
   "outputs": [],
   "execution_count": 35
  },
  {
   "metadata": {
    "ExecuteTime": {
     "end_time": "2024-09-02T10:04:23.183834Z",
     "start_time": "2024-09-02T10:04:15.972458Z"
    }
   },
   "cell_type": "code",
   "source": [
    "user_id = 'саша007'\n",
    "question = 'Напиши слово: Тест'\n",
    "\n",
    "response_content = chain.invoke({\"input\": question}, config={\"configurable\": {\"session_id\": user_id}})\n",
    "response_content"
   ],
   "id": "e93b4efa3ec7c28d",
   "outputs": [
    {
     "name": "stderr",
     "output_type": "stream",
     "text": [
      "Error in RootListenersTracer.on_chain_end callback: KeyError('answer')\n",
      "Error in callback coroutine: KeyError('answer')\n"
     ]
    },
    {
     "data": {
      "text/plain": [
       "{'input': 'Напиши слово: Тест',\n",
       " 'chat_history': [],\n",
       " 'context': [Document(page_content='Гость: Спасибо, понятно/ До свидания/ решение проблемы и завершение диалога  \\nБот: Спасибо за ваше обращение в Живой Чат. Желаем вам всего самого доброго! 💚'),\n",
       "  Document(page_content='Гость: Где взять но мер телефона магазина?  \\nБот:  Здравствуйте! В приложении в разделе «Наши магазины» и на сайте в разделе \\n«Адреса магазинов кафе» представлены все номера телефонов 💚'),\n",
       "  Document(page_content='Гость: Какой номер телефона у магазина?  \\nБот: Здравствуйте! В приложении в разделе «Наши магазины» и на сайте в разделе \\n«Адреса магазинов кафе» представлены все номера телефонов 💚'),\n",
       "  Document(page_content='Гость: Как оставить чаевые курьеру?  \\nБот: Здравствуйте! После завершения  заказа есть кнопка оставить чаевые курьеру, \\nгде вы указываете нужную сумму и переводите благодарность нашему супергерою! :)')],\n",
       " 'answer': 'Тест'}"
      ]
     },
     "execution_count": 30,
     "metadata": {},
     "output_type": "execute_result"
    }
   ],
   "execution_count": 30
  },
  {
   "metadata": {},
   "cell_type": "markdown",
   "source": "### История сообщений",
   "id": "4ac7b44e541f356e"
  },
  {
   "metadata": {
    "ExecuteTime": {
     "end_time": "2024-08-27T10:59:23.986286Z",
     "start_time": "2024-08-27T10:59:22.939404Z"
    }
   },
   "cell_type": "code",
   "source": [
    "session_history = get_session_history(user_id)\n",
    "session_history"
   ],
   "id": "c2ae9ea9a857ebac",
   "outputs": [
    {
     "data": {
      "text/plain": [
       "<langchain_community.chat_message_histories.postgres.PostgresChatMessageHistory at 0x1752b248400>"
      ]
     },
     "execution_count": 13,
     "metadata": {},
     "output_type": "execute_result"
    }
   ],
   "execution_count": 13
  },
  {
   "metadata": {
    "ExecuteTime": {
     "end_time": "2024-08-27T11:02:44.684624Z",
     "start_time": "2024-08-27T11:02:43.549741Z"
    }
   },
   "cell_type": "code",
   "outputs": [
    {
     "data": {
      "text/plain": [
       "[{'Human': 'Привет! Когда приедет курьер?'},\n",
       " {'AI': 'Привет! :) Время доставки заказа зависит от выбранного интервала и адреса доставки. Точное время прибытия курьера будет указано в приложении после оформления заказа. Если у вас возникнут вопросы или необходима помощь, обращайтесь в наш Живой Чат, и мы с радостью поможем!'}]"
      ]
     },
     "execution_count": 18,
     "metadata": {},
     "output_type": "execute_result"
    }
   ],
   "execution_count": 18,
   "source": [
    "from langchain_core.messages import HumanMessage, AIMessage\n",
    "\n",
    "session_history = get_session_history(user_id)\n",
    "\n",
    "# Преобразование сообщений в список словарей\n",
    "messages = []\n",
    "for message in session_history.messages:\n",
    "    if isinstance(message, HumanMessage):\n",
    "        messages.append({\"Human\": message.content})\n",
    "    elif isinstance(message, AIMessage):\n",
    "        messages.append({\"AI\": message.content})\n",
    "messages"
   ],
   "id": "ac0108f59893eec3"
  },
  {
   "metadata": {},
   "cell_type": "markdown",
   "source": "### Подбор промтов",
   "id": "2bb617589b90623f"
  },
  {
   "metadata": {
    "ExecuteTime": {
     "end_time": "2024-09-03T10:35:24.297531Z",
     "start_time": "2024-09-03T10:35:13.906618Z"
    }
   },
   "cell_type": "code",
   "source": [
    "story_prompt =  \"\"\"Учитывая историю чата и последний вопрос пользователя,\n",
    "    который может ссылаться на контекст в истории чата, сформулируй отдельный вопрос,\n",
    "    который можно понять без истории чата. НЕ ОТВЕЧАЙ на вопрос, просто переформулируйте его,\n",
    "    если необходимо, и в противном случае верните его как есть.\n",
    "    \"\"\"\n",
    "# \"\"\"Далее представлена история сообщений данного гостя с чат-ботом. В ней может не быть правильных ответов,\n",
    "# ведь если бы человек получил правильный ответ, он бы больше не писал боту.\n",
    "# Но в ней может быть полезный для поиска правильного ответа контекст.\n",
    "#     \"\"\"\n",
    "system_prompt = \"\"\"Ты - чат-бот Енот, и работаешь в чате сети магазинов хороших продуктов \"Жизньмарт\",\n",
    "    твоя функция - стараться ответить на любой вопрос клиента про работу магазинов \"Жизьмарт\".\n",
    "    Используй в ответах только русский язык! Не отвечай на английском! \n",
    "    Если вопрос не касается контекста, то вежливо и дружелюбно переведи тему и расскажи про Живчики Жизьмарта.\n",
    "\n",
    "    {context}\n",
    "\n",
    "    Используй только этот контекст, чтобы ответить на последний вопрос.\n",
    "    Если ответа нет в контексте, просто позитивно поддержи диалог на тему Жизньмарта!\n",
    "    Если клиент поздоровался с тобой, но НЕ ЗАДАЛ вопрос, тогда поздоровайся и спроси, чем ему помочь!\n",
    "    \"\"\"\n",
    "# Сформулируй ответ на основе того, как человек общается с ботом в context\n",
    "\n",
    "chain = create_chain(model=mythomist,\n",
    "                              system_prompt=system_prompt, story_prompt=story_prompt,\n",
    "                              temperature=0.5, max_tokens=500)\n",
    "chain"
   ],
   "id": "8f64ab78acc7bf34",
   "outputs": [
    {
     "name": "stderr",
     "output_type": "stream",
     "text": [
      "C:\\D\\livemart\\chat_bot_lm\\.venv\\lib\\site-packages\\sentence_transformers\\cross_encoder\\CrossEncoder.py:11: TqdmWarning: IProgress not found. Please update jupyter and ipywidgets. See https://ipywidgets.readthedocs.io/en/stable/user_install.html\n",
      "  from tqdm.autonotebook import tqdm, trange\n"
     ]
    },
    {
     "data": {
      "text/plain": [
       "RunnableWithMessageHistory(bound=RunnableBinding(bound=RunnableBinding(bound=RunnableAssign(mapper={\n",
       "  chat_history: RunnableBinding(bound=RunnableLambda(_enter_history), config={'run_name': 'load_history'})\n",
       "}), config={'run_name': 'insert_history'})\n",
       "| RunnableBranch(branches=[(RunnableBinding(bound=RunnableLambda(_is_not_async), config={'run_name': 'RunnableWithMessageHistoryInAsyncMode'}), RunnableBinding(bound=RunnableBinding(bound=RunnableAssign(mapper={\n",
       "    context: RunnableBinding(bound=RunnableBranch(branches=[(RunnableLambda(lambda x: not x.get('chat_history', False)), RunnableLambda(lambda x: x['input'])\n",
       "             | VectorStoreRetriever(tags=['FAISS', 'HuggingFaceEmbeddings'], vectorstore=<langchain_community.vectorstores.faiss.FAISS object at 0x000001B7575AA140>))], default=ChatPromptTemplate(input_variables=['chat_history', 'input'], input_types={'chat_history': typing.List[typing.Union[langchain_core.messages.ai.AIMessage, langchain_core.messages.human.HumanMessage, langchain_core.messages.chat.ChatMessage, langchain_core.messages.system.SystemMessage, langchain_core.messages.function.FunctionMessage, langchain_core.messages.tool.ToolMessage]]}, messages=[SystemMessagePromptTemplate(prompt=PromptTemplate(input_variables=[], template='Учитывая историю чата и последний вопрос пользователя,\\n    который может ссылаться на контекст в истории чата, сформулируй отдельный вопрос,\\n    который можно понять без истории чата. НЕ ОТВЕЧАЙ на вопрос, просто переформулируйте его,\\n    если необходимо, и в противном случае верните его как есть.\\n    ')), MessagesPlaceholder(variable_name='chat_history'), HumanMessagePromptTemplate(prompt=PromptTemplate(input_variables=['input'], template='{input}'))])\n",
       "             | ChatOpenAI(client=<openai.resources.chat.completions.Completions object at 0x000001B733279EA0>, async_client=<openai.resources.chat.completions.AsyncCompletions object at 0x000001B73327ACB0>, model_name='gryphe/mythomist-7b:free', temperature=0.5, openai_api_key=SecretStr('**********'), openai_api_base='https://openrouter.ai/api/v1', openai_proxy='', max_tokens=500)\n",
       "             | StrOutputParser()\n",
       "             | VectorStoreRetriever(tags=['FAISS', 'HuggingFaceEmbeddings'], vectorstore=<langchain_community.vectorstores.faiss.FAISS object at 0x000001B7575AA140>)), config={'run_name': 'retrieve_documents'})\n",
       "  })\n",
       "  | RunnableAssign(mapper={\n",
       "      answer: RunnableBinding(bound=RunnableBinding(bound=RunnableAssign(mapper={\n",
       "                context: RunnableLambda(format_docs)\n",
       "              }), config={'run_name': 'format_inputs'})\n",
       "              | ChatPromptTemplate(input_variables=['chat_history', 'context', 'input'], input_types={'chat_history': typing.List[typing.Union[langchain_core.messages.ai.AIMessage, langchain_core.messages.human.HumanMessage, langchain_core.messages.chat.ChatMessage, langchain_core.messages.system.SystemMessage, langchain_core.messages.function.FunctionMessage, langchain_core.messages.tool.ToolMessage]]}, messages=[SystemMessagePromptTemplate(prompt=PromptTemplate(input_variables=['context'], template='Ты - чат-бот Енот, и работаешь в чате сети магазинов хороших продуктов \"Жизньмарт\",\\n    твоя функция - стараться ответить на любой вопрос клиента про работу магазинов \"Жизьмарт\".\\n    Используй в ответах только русский язык! Не отвечай на английском! \\n    Если вопрос не касается контекста, то вежливо и дружелюбно переведи тему и расскажи про Живчики Жизьмарта.\\n\\n    {context}\\n\\n    Используй только этот контекст, чтобы ответить на последний вопрос.\\n    Если ответа нет в контексте, просто позитивно поддержи диалог на тему Жизньмарта!\\n    Если клиент поздоровался с тобой, но НЕ ЗАДАЛ вопрос, тогда поздоровайся и спроси, чем ему помочь!\\n    ')), MessagesPlaceholder(variable_name='chat_history'), HumanMessagePromptTemplate(prompt=PromptTemplate(input_variables=['input'], template='{input}'))])\n",
       "              | ChatOpenAI(client=<openai.resources.chat.completions.Completions object at 0x000001B733279EA0>, async_client=<openai.resources.chat.completions.AsyncCompletions object at 0x000001B73327ACB0>, model_name='gryphe/mythomist-7b:free', temperature=0.5, openai_api_key=SecretStr('**********'), openai_api_base='https://openrouter.ai/api/v1', openai_proxy='', max_tokens=500)\n",
       "              | StrOutputParser(), config={'run_name': 'stuff_documents_chain'})\n",
       "    }), config={'run_name': 'retrieval_chain'}), config_factories=[<function Runnable.with_alisteners.<locals>.<lambda> at 0x000001B75753C790>]))], default=RunnableBinding(bound=RunnableAssign(mapper={\n",
       "    context: RunnableBinding(bound=RunnableBranch(branches=[(RunnableLambda(lambda x: not x.get('chat_history', False)), RunnableLambda(lambda x: x['input'])\n",
       "             | VectorStoreRetriever(tags=['FAISS', 'HuggingFaceEmbeddings'], vectorstore=<langchain_community.vectorstores.faiss.FAISS object at 0x000001B7575AA140>))], default=ChatPromptTemplate(input_variables=['chat_history', 'input'], input_types={'chat_history': typing.List[typing.Union[langchain_core.messages.ai.AIMessage, langchain_core.messages.human.HumanMessage, langchain_core.messages.chat.ChatMessage, langchain_core.messages.system.SystemMessage, langchain_core.messages.function.FunctionMessage, langchain_core.messages.tool.ToolMessage]]}, messages=[SystemMessagePromptTemplate(prompt=PromptTemplate(input_variables=[], template='Учитывая историю чата и последний вопрос пользователя,\\n    который может ссылаться на контекст в истории чата, сформулируй отдельный вопрос,\\n    который можно понять без истории чата. НЕ ОТВЕЧАЙ на вопрос, просто переформулируйте его,\\n    если необходимо, и в противном случае верните его как есть.\\n    ')), MessagesPlaceholder(variable_name='chat_history'), HumanMessagePromptTemplate(prompt=PromptTemplate(input_variables=['input'], template='{input}'))])\n",
       "             | ChatOpenAI(client=<openai.resources.chat.completions.Completions object at 0x000001B733279EA0>, async_client=<openai.resources.chat.completions.AsyncCompletions object at 0x000001B73327ACB0>, model_name='gryphe/mythomist-7b:free', temperature=0.5, openai_api_key=SecretStr('**********'), openai_api_base='https://openrouter.ai/api/v1', openai_proxy='', max_tokens=500)\n",
       "             | StrOutputParser()\n",
       "             | VectorStoreRetriever(tags=['FAISS', 'HuggingFaceEmbeddings'], vectorstore=<langchain_community.vectorstores.faiss.FAISS object at 0x000001B7575AA140>)), config={'run_name': 'retrieve_documents'})\n",
       "  })\n",
       "  | RunnableAssign(mapper={\n",
       "      answer: RunnableBinding(bound=RunnableBinding(bound=RunnableAssign(mapper={\n",
       "                context: RunnableLambda(format_docs)\n",
       "              }), config={'run_name': 'format_inputs'})\n",
       "              | ChatPromptTemplate(input_variables=['chat_history', 'context', 'input'], input_types={'chat_history': typing.List[typing.Union[langchain_core.messages.ai.AIMessage, langchain_core.messages.human.HumanMessage, langchain_core.messages.chat.ChatMessage, langchain_core.messages.system.SystemMessage, langchain_core.messages.function.FunctionMessage, langchain_core.messages.tool.ToolMessage]]}, messages=[SystemMessagePromptTemplate(prompt=PromptTemplate(input_variables=['context'], template='Ты - чат-бот Енот, и работаешь в чате сети магазинов хороших продуктов \"Жизньмарт\",\\n    твоя функция - стараться ответить на любой вопрос клиента про работу магазинов \"Жизьмарт\".\\n    Используй в ответах только русский язык! Не отвечай на английском! \\n    Если вопрос не касается контекста, то вежливо и дружелюбно переведи тему и расскажи про Живчики Жизьмарта.\\n\\n    {context}\\n\\n    Используй только этот контекст, чтобы ответить на последний вопрос.\\n    Если ответа нет в контексте, просто позитивно поддержи диалог на тему Жизньмарта!\\n    Если клиент поздоровался с тобой, но НЕ ЗАДАЛ вопрос, тогда поздоровайся и спроси, чем ему помочь!\\n    ')), MessagesPlaceholder(variable_name='chat_history'), HumanMessagePromptTemplate(prompt=PromptTemplate(input_variables=['input'], template='{input}'))])\n",
       "              | ChatOpenAI(client=<openai.resources.chat.completions.Completions object at 0x000001B733279EA0>, async_client=<openai.resources.chat.completions.AsyncCompletions object at 0x000001B73327ACB0>, model_name='gryphe/mythomist-7b:free', temperature=0.5, openai_api_key=SecretStr('**********'), openai_api_base='https://openrouter.ai/api/v1', openai_proxy='', max_tokens=500)\n",
       "              | StrOutputParser(), config={'run_name': 'stuff_documents_chain'})\n",
       "    }), config={'run_name': 'retrieval_chain'}, config_factories=[<function RunnableBinding.with_listeners.<locals>.<lambda> at 0x000001B75753C8B0>])), config={'run_name': 'RunnableWithMessageHistory'}), get_session_history=<function get_session_history at 0x000001B71BEA35B0>, input_messages_key='input', output_messages_key='answer', history_messages_key='chat_history', history_factory_config=[ConfigurableFieldSpec(id='session_id', annotation=<class 'str'>, name='Session ID', description='Unique identifier for a session.', default='', is_shared=True, dependencies=None)])"
      ]
     },
     "execution_count": 2,
     "metadata": {},
     "output_type": "execute_result"
    }
   ],
   "execution_count": 2
  },
  {
   "metadata": {
    "ExecuteTime": {
     "end_time": "2024-09-03T10:36:25.657352Z",
     "start_time": "2024-09-03T10:36:25.553357Z"
    }
   },
   "cell_type": "code",
   "source": [
    "user_id = 'саша127'\n",
    "question = 'Курьеранет сколько ждать еще?'"
   ],
   "id": "7a409ca8b385600",
   "outputs": [],
   "execution_count": 3
  },
  {
   "metadata": {
    "ExecuteTime": {
     "end_time": "2024-09-03T10:36:39.441002Z",
     "start_time": "2024-09-03T10:36:29.694748Z"
    }
   },
   "cell_type": "code",
   "source": [
    "response_content = chain.invoke({\"input\": question}, config={\"configurable\": {\"session_id\": user_id}})\n",
    "response_content"
   ],
   "id": "49b98e5b81e6d3d7",
   "outputs": [
    {
     "name": "stderr",
     "output_type": "stream",
     "text": [
      "C:\\D\\livemart\\chat_bot_lm\\.venv\\lib\\site-packages\\langchain_core\\_api\\deprecation.py:141: LangChainPendingDeprecationWarning: This class is deprecated and will be removed in a future version. You can swap to using the `PostgresChatMessageHistory` implementation in `langchain_postgres`. Please do not submit further PRs to this class.See <https://github.com/langchain-ai/langchain-postgres>\n",
      "  warn_deprecated(\n",
      "Error in RootListenersTracer.on_chain_end callback: KeyError('answer')\n",
      "Error in callback coroutine: KeyError('answer')\n"
     ]
    },
    {
     "data": {
      "text/plain": [
       "{'input': 'Курьеранет сколько ждать еще?',\n",
       " 'chat_history': [],\n",
       " 'context': [Document(page_content='Гость: Как связаться с курьером?  \\nБот: Здравствуйте! В приложении в разделе «Наши магазины» и на сайте в разделе \\n«Адреса магазинов кафе» представлены все номера магазинов – вы можете \\nпозвонить напрямую супергероям, а они сориентируют вас по коммуникации с \\nкурьером :)'),\n",
       "  Document(page_content='Гость: Как оставить чаевые курьеру?  \\nБот: Здравствуйте! После завершения  заказа есть кнопка оставить чаевые курьеру, \\nгде вы указываете нужную сумму и переводите благодарность нашему супергерою! :)'),\n",
       "  Document(page_content='Гость: Какой кофе мне могут сделать бесплатно по карточке?  \\nБот: Здравствуйте! На главном экране в приложен ии Жизньмарт  появился раздел \\nКофе в подарок, в котором есть копилка. Нажав на акцию с кофе, вы увидите, какие \\nнапитки можно получить бесплатно 💚'),\n",
       "  Document(page_content='Гость: Спасибо, понятно/ До свидания/ решение проблемы и завершение диалога  \\nБот: Спасибо за ваше обращение в Живой Чат. Желаем вам всего самого доброго! 💚')],\n",
       " 'answer': ' Здравствуйте! В приложении в разделе «Наши магазины» и на сайте в разделе \\n«Адреса магазинов кафе» представлены все номера магазинов – вы можете \\nпозвонить напрямую супергероям, а они сориентируют вас по коммуникации с \\nкурьером. Время ожидания может отличаться в зависимости от объема заказа и \\nотдачи. Возможно, стоит позвонить в магазин, чтобы узнать точные сроки ожидания \\nкурьера.'}"
      ]
     },
     "execution_count": 4,
     "metadata": {},
     "output_type": "execute_result"
    }
   ],
   "execution_count": 4
  },
  {
   "metadata": {
    "ExecuteTime": {
     "end_time": "2024-09-02T12:03:41.781239Z",
     "start_time": "2024-09-02T12:03:28.975153Z"
    }
   },
   "cell_type": "code",
   "source": "chain.invoke({\"input\": question}, config={\"configurable\": {\"session_id\": user_id}})",
   "id": "3e539f5c5876230a",
   "outputs": [
    {
     "name": "stderr",
     "output_type": "stream",
     "text": [
      "Error in RootListenersTracer.on_chain_end callback: KeyError('answer')\n",
      "Error in callback coroutine: KeyError('answer')\n"
     ]
    },
    {
     "data": {
      "text/plain": [
       "{'input': 'Курьеранет сколько ждать еще?',\n",
       " 'chat_history': [HumanMessage(content='Курьеранет сколько ждать еще?'),\n",
       "  AIMessage(content='Извините, я не могу отследить местоположение курьера. Но если у вас есть номер телефона курьера, вы можете позвонить ему и уточнить.')],\n",
       " 'context': [Document(page_content='Гость: Как связаться с курьером?  \\nБот: Здравствуйте! В приложении в разделе «Наши магазины» и на сайте в разделе \\n«Адреса магазинов кафе» представлены все номера магазинов – вы можете \\nпозвонить напрямую супергероям, а они сориентируют вас по коммуникации с \\nкурьером :)'),\n",
       "  Document(page_content='Гость: Как оставить чаевые курьеру?  \\nБот: Здравствуйте! После завершения  заказа есть кнопка оставить чаевые курьеру, \\nгде вы указываете нужную сумму и переводите благодарность нашему супергерою! :)'),\n",
       "  Document(page_content='Гость: Как сменить данные в профиле?  \\nБот: Здравствуйте! Для этого перейдите в профиль в приложении или на сайте в \\nЛичный Кабинет и внесите нужные изменения. После чего сохраните.'),\n",
       "  Document(page_content='Гость: Как изменить магазин для доставки?  \\nБот: Здравствуйте! Магазин вручную выбрать нельзя. Приложение автоматически \\nформирует ваш заказ на ближайшем  магазине с доступным сервисом доставки, \\nучитывая выбран ный ассортимент в корзине.')],\n",
       " 'answer': 'Здравствуйте! Я понимаю ваше нетерпение, но к сожалению, не могу дать точную информацию о времени ожидания курьера. В приложении или на сайте Жизньмарта вы можете отслеживать статус вашего заказа. Если время доставки значительно затянулось, пожалуйста, свяжитесь с нашим магазином по номеру, указанному на сайте или в приложении, и наши супергерои помогут вам. Надеемся, ваш заказ скоро будет у вас!'}"
      ]
     },
     "execution_count": 39,
     "metadata": {},
     "output_type": "execute_result"
    }
   ],
   "execution_count": 39
  },
  {
   "metadata": {
    "ExecuteTime": {
     "end_time": "2024-08-29T13:20:55.705836Z",
     "start_time": "2024-08-29T13:20:55.600451Z"
    }
   },
   "cell_type": "code",
   "source": [
    "import uuid\n",
    "\n",
    "user_id = 'саша102'\n",
    "# user_id = str(uuid.uuid4())\n",
    "question = 'Курьеранет сколько ждать еще?'\n",
    "# user_id"
   ],
   "id": "fd0bcc68d687d02e",
   "outputs": [],
   "execution_count": 16
  },
  {
   "metadata": {
    "ExecuteTime": {
     "end_time": "2024-08-29T13:15:34.594225Z",
     "start_time": "2024-08-29T13:15:31.002130Z"
    }
   },
   "cell_type": "code",
   "source": [
    "response_content = chain_gigachat.invoke({\"input\": question}, config={\"configurable\": {\"session_id\": user_id}})\n",
    "response_content"
   ],
   "id": "7fea27118f1db6c6",
   "outputs": [
    {
     "name": "stderr",
     "output_type": "stream",
     "text": [
      "Error in RootListenersTracer.on_chain_end callback: KeyError('answer')\n",
      "Error in callback coroutine: KeyError('answer')\n"
     ]
    },
    {
     "data": {
      "text/plain": [
       "{'input': 'Курьеранет сколько ждать еще?',\n",
       " 'chat_history': [],\n",
       " 'context': [Document(page_content='Гость: Как связаться с курьером?  \\nБот: Здравствуйте! В приложении в разделе «Наши магазины» и на сайте в разделе \\n«Адреса магазинов кафе» представлены все номера магазинов – вы можете \\nпозвонить напрямую супергероям, а они сориентируют вас по коммуникации с \\nкурьером :)'),\n",
       "  Document(page_content='Гость: Как оставить чаевые курьеру?  \\nБот: Здравствуйте! После завершения  заказа есть кнопка оставить чаевые курьеру, \\nгде вы указываете нужную сумму и переводите благодарность нашему супергерою! :)'),\n",
       "  Document(page_content='Гость: Какой кофе мне могут сделать бесплатно по карточке?  \\nБот: Здравствуйте! На главном экране в приложен ии Жизньмарт  появился раздел \\nКофе в подарок, в котором есть копилка. Нажав на акцию с кофе, вы увидите, какие \\nнапитки можно получить бесплатно 💚'),\n",
       "  Document(page_content='Гость: Спасибо, понятно/ До свидания/ решение проблемы и завершение диалога  \\nБот: Спасибо за ваше обращение в Живой Чат. Желаем вам всего самого доброго! 💚')],\n",
       " 'answer': 'Здравствуйте! К сожалению, я не могу знать, когда именно приедет курьер. Но вы всегда можете отследить его местоположение в приложении или позвонить в магазин, чтобы уточнить информацию.'}"
      ]
     },
     "execution_count": 15,
     "metadata": {},
     "output_type": "execute_result"
    }
   ],
   "execution_count": 15
  },
  {
   "metadata": {
    "ExecuteTime": {
     "end_time": "2024-08-29T13:21:13.130956Z",
     "start_time": "2024-08-29T13:21:08.321878Z"
    }
   },
   "cell_type": "code",
   "source": [
    "response_content = chain_gigachat.invoke({\"input\": question}, config={\"configurable\": {\"session_id\": user_id}})\n",
    "response_content"
   ],
   "id": "196d70e29ac5ec87",
   "outputs": [
    {
     "name": "stderr",
     "output_type": "stream",
     "text": [
      "Error in RootListenersTracer.on_chain_end callback: KeyError('answer')\n",
      "Error in callback coroutine: KeyError('answer')\n"
     ]
    },
    {
     "data": {
      "text/plain": [
       "{'input': 'Как связаться с курьером?',\n",
       " 'chat_history': [HumanMessage(content='Курьеранет сколько ждать еще?'),\n",
       "  AIMessage(content='Здравствуйте! К сожалению, я не могу знать, когда именно приедет курьер. Но вы всегда можете отследить его местоположение в приложении или позвонить в магазин, чтобы уточнить информацию.')],\n",
       " 'context': [Document(page_content='Гость: Как связаться с курьером?  \\nБот: Здравствуйте! В приложении в разделе «Наши магазины» и на сайте в разделе \\n«Адреса магазинов кафе» представлены все номера магазинов – вы можете \\nпозвонить напрямую супергероям, а они сориентируют вас по коммуникации с \\nкурьером :)'),\n",
       "  Document(page_content='Гость: Как сдела ть заказ?  \\nБот: Здравствуйте! 💚 Оформить заказ можно в нашем приложении или на сайте, \\nдобавив все нужное в корзину.'),\n",
       "  Document(page_content='Гость: Где мой заказ?  \\nБот: Добрый день! Приносим тысячу извинений, что задерживаемся. Уточнить \\nместоположение курьера можно напрямую в магазине – после оформления заказа \\nпоявляется кнопка \"Связаться с нами\" – это прямой номер филиала.'),\n",
       "  Document(page_content='Гость: Можно выслать чек за покупку  \\nБот: Здравствуйте! Чек приходит на электронную почту при оплате заказа на доставку \\nи самовывоз. При оплате покупки на кассе магазина чек выдается бумажный. Для того, \\nчтобы получить чек с покупки в зале, вам необходим о обратиться в магазин к \\nсотрудникам, где вы совершали покупку. Наши супергерои помогут вам! :)')],\n",
       " 'answer': 'Вы можете связаться с курьером через приложение или сайт. В разделе \"Наши магазины\" или \"Адреса магазинов кафе\" указаны все номера магазинов.'}"
      ]
     },
     "execution_count": 17,
     "metadata": {},
     "output_type": "execute_result"
    }
   ],
   "execution_count": 17
  },
  {
   "metadata": {
    "ExecuteTime": {
     "end_time": "2024-08-30T06:53:44.259446Z",
     "start_time": "2024-08-30T06:53:37.299146Z"
    }
   },
   "cell_type": "code",
   "source": [
    "user_id = 'саша103'\n",
    "question = 'Курьеранет сколько ждать еще?'\n",
    "\n",
    "response_content = chain_gigachat.invoke({\"input\": question}, config={\"configurable\": {\"session_id\": user_id}})\n",
    "response_content"
   ],
   "id": "35fd4e041a1c68cf",
   "outputs": [
    {
     "name": "stderr",
     "output_type": "stream",
     "text": [
      "C:\\D\\livemart\\chat_bot_lm\\.venv\\lib\\site-packages\\langchain_core\\_api\\deprecation.py:141: LangChainPendingDeprecationWarning: This class is deprecated and will be removed in a future version. You can swap to using the `PostgresChatMessageHistory` implementation in `langchain_postgres`. Please do not submit further PRs to this class.See <https://github.com/langchain-ai/langchain-postgres>\n",
      "  warn_deprecated(\n",
      "Error in RootListenersTracer.on_chain_end callback: KeyError('answer')\n",
      "Error in callback coroutine: KeyError('answer')\n"
     ]
    },
    {
     "data": {
      "text/plain": [
       "{'input': 'Как связаться с курьером?',\n",
       " 'chat_history': [],\n",
       " 'context': [Document(page_content='Гость: Как связаться с курьером?  \\nБот: Здравствуйте! В приложении в разделе «Наши магазины» и на сайте в разделе \\n«Адреса магазинов кафе» представлены все номера магазинов – вы можете \\nпозвонить напрямую супергероям, а они сориентируют вас по коммуникации с \\nкурьером :)'),\n",
       "  Document(page_content='Гость: Как оставить чаевые курьеру?  \\nБот: Здравствуйте! После завершения  заказа есть кнопка оставить чаевые курьеру, \\nгде вы указываете нужную сумму и переводите благодарность нашему супергерою! :)'),\n",
       "  Document(page_content='Гость: Как отменить заказ?  \\nБот: Здравствуйте! После оформления заказа есть активная кнопка \"Связаться с нами\" \\n– вы увидите номер магазина, по которому можете обратиться напрямую к \\nсупергероям и попросить отменить заказ :)'),\n",
       "  Document(page_content='Гость: Как изменить магазин для доставки?  \\nБот: Здравствуйте! Магазин вручную выбрать нельзя. Приложение автоматически \\nформирует ваш заказ на ближайшем  магазине с доступным сервисом доставки, \\nучитывая выбран ный ассортимент в корзине.')],\n",
       " 'answer': 'Здравствуйте! Вы можете связаться с курьером, позвонив напрямую в магазин \"Жизньмарт\". В приложении или на сайте есть раздел \"Наши магазины\", где указаны все номера телефонов.'}"
      ]
     },
     "execution_count": 5,
     "metadata": {},
     "output_type": "execute_result"
    }
   ],
   "execution_count": 5
  },
  {
   "metadata": {
    "ExecuteTime": {
     "end_time": "2024-08-30T06:54:51.568753Z",
     "start_time": "2024-08-30T06:54:45.245724Z"
    }
   },
   "cell_type": "code",
   "source": [
    "user_id = 'саша103'\n",
    "question = 'Курьеранет сколько ждать еще?'\n",
    "\n",
    "response_content = chain_gigachat.invoke({\"input\": question}, config={\"configurable\": {\"session_id\": user_id}})\n",
    "response_content"
   ],
   "id": "d696f6f7acb6531d",
   "outputs": [
    {
     "name": "stderr",
     "output_type": "stream",
     "text": [
      "Error in RootListenersTracer.on_chain_end callback: KeyError('answer')\n",
      "Error in callback coroutine: KeyError('answer')\n"
     ]
    },
    {
     "data": {
      "text/plain": [
       "{'input': 'Курьеранет сколько ждать еще?',\n",
       " 'chat_history': [HumanMessage(content='Как связаться с курьером?'),\n",
       "  AIMessage(content='Здравствуйте! Вы можете связаться с курьером, позвонив напрямую в магазин \"Жизньмарт\". В приложении или на сайте есть раздел \"Наши магазины\", где указаны все номера телефонов.')],\n",
       " 'context': [Document(page_content='Гость: Где можно оставить отзыв?  \\nБот: Здравствуйте! Отзыв можем принять в Живом чате – просто отправьте слово \\n\"оператор\", а затем опишите ваш отзыв, а также укажите магазин, где вы делали \\nпокупку, и наш оператор поможет вам :)'),\n",
       "  Document(page_content='Гость: Не могу оплатить продукцию живчик ами. \\nБот: Здравствуйте! :) Живчики можно обменять на любой товар из Живчикмарт, \\nдобавив все нужное в корзину приложения и оформив заказ на доставку или \\nсамовывоз (магазин живчиков находится в главном меню в приложении).'),\n",
       "  Document(page_content='Гость: Почему в магазине нет нужного товара  \\nБот: Здравствуйте! Ежедневно мы принимаем поставки свежей продукции на наших \\nмагазинах, вероятно, товар раскупили, и скоро он появится на полках вновь! О \\nналичии конкретного товара вы можете уточнить напрямую в нужном магазине сети – \\nномера представлены на сайте и в приложении.'),\n",
       "  Document(page_content='Гость: Как изменить магазин для доставки?  \\nБот: Здравствуйте! Магазин вручную выбрать нельзя. Приложение автоматически \\nформирует ваш заказ на ближайшем  магазине с доступным сервисом доставки, \\nучитывая выбран ный ассортимент в корзине.')],\n",
       " 'answer': 'Здравствуйте! К сожалению, я не могу точно сказать, сколько времени потребуется курьеру, чтобы доставить ваш заказ. Однако, если у вас возникли вопросы по поводу доставки, вы всегда можете обратиться в службу поддержки клиентов магазина \"Жизньмарт\".'}"
      ]
     },
     "execution_count": 6,
     "metadata": {},
     "output_type": "execute_result"
    }
   ],
   "execution_count": 6
  },
  {
   "metadata": {},
   "cell_type": "markdown",
   "source": [
    "Комментарий по ответу:\n",
    "\n",
    "'answer': 'Здравствуйте! К сожалению, я не могу точно сказать, сколько времени потребуется курьеру, чтобы доставить ваш заказ. Однако, если у вас возникли вопросы по поводу доставки, вы всегда можете обратиться в службу поддержки клиентов магазина \"Жизньмарт\".'\n",
    "\n",
    "Ты уже чат-бот службы поддержки клиентов сети магазинов \"Жизньмарт\"! Куда ты направляешь людей, они уже к тебе обратились. И зачем ставить точку в конце каждого предложения? Это пассивно-агрессивно...\n",
    "Нужно менять системные промты"
   ],
   "id": "9a7b90f10c6c2026"
  }
 ],
 "metadata": {
  "kernelspec": {
   "display_name": "Python 3",
   "language": "python",
   "name": "python3"
  },
  "language_info": {
   "codemirror_mode": {
    "name": "ipython",
    "version": 2
   },
   "file_extension": ".py",
   "mimetype": "text/x-python",
   "name": "python",
   "nbconvert_exporter": "python",
   "pygments_lexer": "ipython2",
   "version": "2.7.6"
  }
 },
 "nbformat": 4,
 "nbformat_minor": 5
}
